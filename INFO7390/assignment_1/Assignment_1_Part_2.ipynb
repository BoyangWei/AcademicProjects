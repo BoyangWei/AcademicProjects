{
 "cells": [
  {
   "cell_type": "code",
   "execution_count": 15,
   "metadata": {
    "collapsed": true
   },
   "outputs": [],
   "source": [
    "%matplotlib inline "
   ]
  },
  {
   "cell_type": "code",
   "execution_count": 16,
   "metadata": {
    "collapsed": true
   },
   "outputs": [],
   "source": [
    "import time\n",
    "import datetime\n",
    "import requests as rq\n",
    "import csv\n",
    "from bs4 import BeautifulSoup\n",
    "import matplotlib.pyplot as plt\n",
    "import matplotlib.image as mpimg\n",
    "from time import sleep"
   ]
  },
  {
   "cell_type": "code",
   "execution_count": 17,
   "metadata": {
    "scrolled": true
   },
   "outputs": [
    {
     "data": {
      "image/png": "[encoded data removed]",
      "text/plain": [
       "<matplotlib.figure.Figure at 0x23bf4850860>"
      ]
     },
     "metadata": {},
     "output_type": "display_data"
    }
   ],
   "source": [
    "# show the goodreads website logo to fit the rule\n",
    "img=mpimg.imread('goodreads_logo.png')\n",
    "#print(img.shape)\n",
    "plt.imshow(img) # show image\n",
    "plt.axis('off') # set axis invisable\n",
    "plt.show()"
   ]
  },
  {
   "cell_type": "code",
   "execution_count": 18,
   "metadata": {
    "collapsed": true
   },
   "outputs": [],
   "source": [
    "#init variables\n",
    "domain = \"https://goodreads.com\"\n",
    "books = {}\n",
    "exlinks = []\n",
    "desc = []\n",
    "status = []\n",
    "timestamp = []\n",
    "numberofpages = 100 # from 1 to 100\n",
    "lines = []\n",
    "blocks=[]"
   ]
  },
  {
   "cell_type": "code",
   "execution_count": 19,
   "metadata": {
    "collapsed": true
   },
   "outputs": [],
   "source": [
    "def check_link_status(link):\n",
    "    statuscheck = rq.get(link)\n",
    "    if(statuscheck.status_code is 200):\n",
    "        return True\n",
    "    else:\n",
    "        return False"
   ]
  },
  {
   "cell_type": "code",
   "execution_count": 20,
   "metadata": {
    "collapsed": true
   },
   "outputs": [],
   "source": [
    "# Domain from goodreads, only allowed 1 request per second with or without api.\n",
    "# create a get request\n",
    "#r = rq.get('https://www.goodreads.com/list/show/7.Best_Books_of_the_21st_Century?page=1')\n",
    "r = rq.get('https://www.goodreads.com/book/show/25899336-when-breath-becomes-air')"
   ]
  },
  {
   "cell_type": "code",
   "execution_count": 21,
   "metadata": {},
   "outputs": [
    {
     "name": "stdout",
     "output_type": "stream",
     "text": [
      "200\n"
     ]
    },
    {
     "data": {
      "text/plain": [
       "int"
      ]
     },
     "execution_count": 21,
     "metadata": {},
     "output_type": "execute_result"
    }
   ],
   "source": [
    "# \n",
    "print(r.status_code)\n",
    "type(r.status_code)"
   ]
  },
  {
   "cell_type": "code",
   "execution_count": 22,
   "metadata": {
    "collapsed": true
   },
   "outputs": [],
   "source": [
    "# set the request comtent to a bs4 type decoded via html5lib\n",
    "content = r.content\n",
    "soup = BeautifulSoup(content, \"html5lib\")"
   ]
  },
  {
   "cell_type": "code",
   "execution_count": 23,
   "metadata": {},
   "outputs": [
    {
     "data": {
      "text/plain": [
       "<title>\n",
       "When Breath Becomes Air by Paul Kalanithi\n",
       "</title>"
      ]
     },
     "execution_count": 23,
     "metadata": {},
     "output_type": "execute_result"
    }
   ],
   "source": [
    "soup.title"
   ]
  },
  {
   "cell_type": "code",
   "execution_count": 24,
   "metadata": {},
   "outputs": [
    {
     "name": "stdout",
     "output_type": "stream",
     "text": [
      "<a href=\"http://www.nytimes.com/2016/01/26/health/lucy-paul-kalanithi-interview-breath-becomes-air.html?mabReward=A6&amp;action=click&amp;pgtype=Homepage&amp;region=CColumn&amp;module=Recommendation&amp;src=rechp&amp;WT.nav=RecEngine&amp;_r=0\" rel=\"nofollow\" target=\"_blank\">http://www.nytimes.com/2016/01/26/hea...</a>\n",
      "<a href=\"http://s1341.photobucket.com/user/irisper01/media/556069_1280x720_zpsbfrek8oe.jpg.html\" rel=\"nofollow\" target=\"_blank\"> <img alt=\" photo 556069_1280x720_zpsbfrek8oe.jpg\" class=\"gr-hostedUserImg\" src=\"https://i.gr-assets.com/images/S/compressed.photo.goodreads.com/hostedimages/1453666346i/17856881._SX540_.jpg\"/></a>\n",
      "<a href=\"http://www.nytimes.com/2016/01/26/health/lucy-paul-kalanithi-interview-breath-becomes-air.html?mabReward=A6&amp;action=click&amp;pgtype=Homepage&amp;region=CColumn&amp;module=Recommendation&amp;src=rechp&amp;WT.nav=RecEngine&amp;_r=0\" rel=\"nofollow\" target=\"_blank\">http://www.nytimes.com/2016/01/26/hea...</a>\n",
      "<a href=\"http://s1341.photobucket.com/user/irisper01/media/556069_1280x720_zpsbfrek8oe.jpg.html\" rel=\"nofollow\" target=\"_blank\">\n",
      "  <img alt=\" photo 556069_1280x720_zpsbfrek8oe.jpg\" class=\"gr-hostedUserImg\" src=\"https://i.gr-assets.com/images/S/compressed.photo.goodreads.com/hostedimages/1453666346i/17856881._SX540_.jpg\"/></a>\n",
      "<a href=\"http://s1341.photobucket.com/user/irisper01/media/IMG_00468_zps504xcdb8.jpg.html\" rel=\"nofollow\" target=\"_blank\">\n",
      "  <img alt=\" photo IMG_00468_zps504xcdb8.jpg\" class=\"gr-hostedUserImg\" src=\"https://i.gr-assets.com/images/S/compressed.photo.goodreads.com/hostedimages/1453666346i/17856882._SY540_.jpg\"/></a>\n",
      "<a href=\"http://itseithersadnessoreuphoria.blogspot.com\" rel=\"nofollow\" target=\"_blank\">http://itseithersadnessoreuphoria.blo...</a>\n",
      "<a href=\"http://timesofindia.indiatimes.com/life-style/books/features/Review-When-Breath-Becomes-Air/articleshow/54308988.cms\" rel=\"nofollow\" target=\"_blank\">http://timesofindia.indiatimes.com/li...</a>\n",
      "<a href=\"http://timesofindia.indiatimes.com/life-style/books/features/Review-When-Breath-Becomes-Air/articleshow/54308988.cms\" rel=\"nofollow\" target=\"_blank\">http://timesofindia.indiatimes.com/li...</a>\n",
      "<a href=\"http://paulkalanithi.com/\" rel=\"nofollow\" target=\"_blank\">http://paulkalanithi.com/</a>\n",
      "<a href=\"https://www.youtube.com/watch?v=d5u753wQeyM\" rel=\"nofollow\" target=\"_blank\">https://www.youtube.com/watch?v=d5u75...</a>\n",
      "<a class=\"twitter-share-button\" href=\"https://twitter.com/intent/tweet?url=https%3A%2F%2Fwww.goodreads.com%2Fbook%2Fshow%2F25899336-when-breath-becomes-air\">\n",
      "Tweet\n",
      "</a>\n"
     ]
    }
   ],
   "source": [
    "for block in soup.find_all('a'):\n",
    "    link = block.get('href')\n",
    "    if link is not None and link.startswith('http') and 'https://www.goodreads.com' not in link:\n",
    "        blocks.append(block)\n",
    "        exlinks.append(link)\n",
    "        print(block)"
   ]
  },
  {
   "cell_type": "code",
   "execution_count": 25,
   "metadata": {
    "collapsed": true
   },
   "outputs": [],
   "source": [
    "# Use BS to find all <a> tab with attribute \"class=bookTitle\"\n",
    "#bookblock = soup.find_all('a', attrs={\"class\": \"bookTitle\"})"
   ]
  },
  {
   "cell_type": "code",
   "execution_count": 26,
   "metadata": {
    "collapsed": true
   },
   "outputs": [],
   "source": [
    "#print(len(bookblock))\n",
    "#print(bookblock[0].span)\n",
    "# NavigableString type to encapsulate string in tag\n",
    "#print(bookblock[0].span.string)\n",
    "#print(bookblock[0].attrs['href'])\n",
    "#print(time.time())\n",
    "#print(datetime.datetime.now())"
   ]
  },
  {
   "cell_type": "code",
   "execution_count": 27,
   "metadata": {
    "scrolled": true
   },
   "outputs": [
    {
     "name": "stdout",
     "output_type": "stream",
     "text": [
      "http://www.nytimes.com/2016/01/26/health/lucy-paul-kalanithi-interview-breath-becomes-air.html?mabReward=A6&action=click&pgtype=Homepage&region=CColumn&module=Recommendation&src=rechp&WT.nav=RecEngine&_r=0,http://www.nytimes.com/2016/01/26/hea...,True\n",
      "http://s1341.photobucket.com/user/irisper01/media/556069_1280x720_zpsbfrek8oe.jpg.html, ,True\n",
      "http://www.nytimes.com/2016/01/26/health/lucy-paul-kalanithi-interview-breath-becomes-air.html?mabReward=A6&action=click&pgtype=Homepage&region=CColumn&module=Recommendation&src=rechp&WT.nav=RecEngine&_r=0,http://www.nytimes.com/2016/01/26/hea...,True\n",
      "http://s1341.photobucket.com/user/irisper01/media/556069_1280x720_zpsbfrek8oe.jpg.html,\n",
      "  ,True\n",
      "http://s1341.photobucket.com/user/irisper01/media/IMG_00468_zps504xcdb8.jpg.html,\n",
      "  ,True\n",
      "http://itseithersadnessoreuphoria.blogspot.com,http://itseithersadnessoreuphoria.blo...,True\n",
      "http://timesofindia.indiatimes.com/life-style/books/features/Review-When-Breath-Becomes-Air/articleshow/54308988.cms,http://timesofindia.indiatimes.com/li...,True\n",
      "http://timesofindia.indiatimes.com/life-style/books/features/Review-When-Breath-Becomes-Air/articleshow/54308988.cms,http://timesofindia.indiatimes.com/li...,True\n",
      "http://paulkalanithi.com/,http://paulkalanithi.com/,True\n",
      "https://www.youtube.com/watch?v=d5u753wQeyM,https://www.youtube.com/watch?v=d5u75...,True\n",
      "https://twitter.com/intent/tweet?url=https%3A%2F%2Fwww.goodreads.com%2Fbook%2Fshow%2F25899336-when-breath-becomes-air,\n",
      "Tweet\n",
      ",True\n"
     ]
    }
   ],
   "source": [
    "for i in range(len(exlinks)):\n",
    "    #link = domain + bookblock[i].attrs['href']\n",
    "    desc.insert(i,blocks[i].text)\n",
    "    status.insert(i, check_link_status(exlinks[i]))\n",
    "    timestamp.insert(i, time.time())\n",
    "    books[i] = (i, {\"link\":exlinks[i], \"desc\":desc[i], \"status\":str(status[i]), \"timestamp\":str(timestamp[i])})\n",
    "    line = [exlinks[i], desc[i], str(status[i]), str(timestamp[i])]\n",
    "    lines.insert(i, line)\n",
    "    print(exlinks[i] + \",\" + desc[i] + \",\" + str(status[i]))\n",
    "#print(exlinks)"
   ]
  },
  {
   "cell_type": "code",
   "execution_count": 30,
   "metadata": {
    "collapsed": true
   },
   "outputs": [],
   "source": [
    "with open('exlinks.csv', \"w\") as csvfile:\n",
    "    writer = csv.writer(csvfile, delimiter=',')\n",
    "    #fieldnames = 'link, desc, status, timestamp'\n",
    "    writer.writerow([\"link\", \"desc\", \"status\", \"timestamp\"])\n",
    "    for i in range(len(exlinks)):\n",
    "        writer.writerow(lines[i])"
   ]
  },
  {
   "cell_type": "code",
   "execution_count": null,
   "metadata": {
    "collapsed": true
   },
   "outputs": [],
   "source": []
  }
 ],
 "metadata": {
  "kernelspec": {
   "display_name": "Python 3",
   "language": "python",
   "name": "python3"
  },
  "language_info": {
   "codemirror_mode": {
    "name": "ipython",
    "version": 3
   },
   "file_extension": ".py",
   "mimetype": "text/x-python",
   "name": "python",
   "nbconvert_exporter": "python",
   "pygments_lexer": "ipython3",
   "version": "3.6.2"
  }
 },
 "nbformat": 4,
 "nbformat_minor": 2
}
