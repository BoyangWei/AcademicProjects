{
 "cells": [
  {
   "cell_type": "markdown",
   "metadata": {
    "collapsed": true
   },
   "source": [
    "## Assignment 2\n",
    "\n",
    "**Due Friday, October 13, 2017**\n",
    "\n",
    "_Submission: Put the data and Jupyter notebook files in a folder. Make sure all links to data are relative to the folder so the TAs can run the notebooks._\n",
    "\n",
    "Use the public dataset that you used for cleaning and EDA in Assignment 1. You _MUST_ get approval if you wish to use a _different_ dataset.\n",
    "\n",
    "In this assingment you will create predictive linear models.\n",
    "\n",
    "* Generate a linear model for the following:\n",
    "    * Find a significant linear relation of your choosing in your data. Create a multivariate linear model. (75 points)  \n",
    "    * Find a significant logistic linear model of your choosing in your data. Create a logistic linear model. (25 points)  \n",
    "  \n",
    "Answer the following questions for the multivariate linear model:  \n",
    "    * Is the relationship significant?\n",
    "        Yes.\n",
    "        1. \"rides ~ Mean_Temperature_F + Mean_Humidity - 1\" : R2 = 0.939; P > |t|: 0; AIC: 8193. \n",
    "        2. \"rides ~ Mean_Temperature_F + Precipitation_In - 1\" : R2 = 0.931; P > |t|: 0; AIC: 8273.\n",
    "        3. \"rides ~ Mean_Temperature_F + Mean_Humidity + Precipitation_In - 1\":\n",
    "            R2 = 0.947; P>|t|: 0; AIC: 8094.\n",
    "        4. \"rides ~ Mean_Temperature_F + Mean_Humidity + Max_Wind_Speed_MPH + Precipitation_In - 1\"\n",
    "    * Are any model assumptions violated?\n",
    "        No.\n",
    "        for all models, P>|t|: 0 , Skew != 0, Kurtosis != 0;\n",
    "    * Is there any multi-colinearity in the model?\n",
    "        1. \"rides ~ Mean_Temperature_F + Mean_Humidity -1\":  VIF = 9.8; Cond. No. 6.23 .Actually, Yes.\n",
    "        2. \"rides ~ Mean_Temperature_F + Precipitation_In - 1\":  VIF = 1.2; Cond. No. 240. No.\n",
    "        3. \"rides ~ Mean_Temperature_F + Mean_Humidity + Max_Wind_Speed_MPH + Precipitation_In - 1\" Yes.\n",
    "| |VIFFactor|features|\n",
    "|-|----|------------------|\n",
    "|0|12.7|Mean_Temperature_F|\n",
    "|1|13.9|Mean_Humidity|\n",
    "|2|10.3|Max_Wind_Speed_MPH|\n",
    "|3|1.5|Precipitation_In|\n",
    "\n",
    "    * In the multivariate models are predictor variables independent of all the other predictor variables?\n",
    "        * From model \"Mean_Temperature_F\",'Mean_Humidity','Max_Wind_Speed_MPH', 'Precipitation_In':\n",
    "            feature Precipitation_In has VIF = 1.5.\n",
    "    * In in multivariate models rank the most significant predictor variables and exclude insignificant ones from the model.\n",
    "        * significant predictor variable: Mean_Temperature_F\n",
    "            Only Mean_Temperature_F itself have a significant relationship with rides.\n",
    "            R2 = 0.907.\n",
    "            That plot shows very well.\n",
    "    * Does the model make sense?\n",
    "        1. \"rides ~ Mean_Temperature_F + Mean_Humidity -1\": \n",
    "            Yes, With R2 = 0.939, P > |t| : 0, \n",
    "        2. \"rides ~ Mean_Temperature_F + Mean_Humidity + Precipitation_In - 1\":\n",
    "            Yes, With R2 = 0.947, t = \n",
    "    * Does regularization help? \n",
    "        No.\n",
    "        rmse had increased from 83.854 to 88.419 when using Validation (train & test)\n",
    "            increased to 86.062 when using k-flod (n_folds=10).\n",
    "Answer the following questions for the logistic linear model:  \n",
    "    * Is the relationship significant?\n",
    "        No.\n",
    "        Model only have Pseudo R-squ = 0.09745;\n",
    "    * Are any model assumptions violated?  \n",
    "        No.\n",
    "        for Mean_Sea_Level_Pressure_In, P>|z|: 0;\n",
    "        for MeanDew_Point_F, P>|z|: 0.024. Almost.\n",
    "        \n",
    "    * Cross-validate the model. How well did it do?\n",
    "        Didn't work well."
   ]
  },
  {
   "cell_type": "markdown",
   "metadata": {},
   "source": [
    "Last update September 13, 2017"
   ]
  }
 ],
 "metadata": {
  "kernelspec": {
   "display_name": "Python 3",
   "language": "python",
   "name": "python3"
  },
  "language_info": {
   "codemirror_mode": {
    "name": "ipython",
    "version": 3
   },
   "file_extension": ".py",
   "mimetype": "text/x-python",
   "name": "python",
   "nbconvert_exporter": "python",
   "pygments_lexer": "ipython3",
   "version": "3.6.2"
  }
 },
 "nbformat": 4,
 "nbformat_minor": 2
}
